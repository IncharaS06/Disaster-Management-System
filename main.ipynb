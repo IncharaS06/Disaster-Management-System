{
 "cells": [
  {
   "cell_type": "code",
   "execution_count": 2,
   "metadata": {},
   "outputs": [
    {
     "name": "stdout",
     "output_type": "stream",
     "text": [
      "✅ Models trained and saved successfully!\n"
     ]
    }
   ],
   "source": [
    "import pandas as pd\n",
    "import joblib\n",
    "from sklearn.model_selection import train_test_split\n",
    "from sklearn.preprocessing import LabelEncoder, StandardScaler\n",
    "from sklearn.ensemble import RandomForestClassifier, RandomForestRegressor\n",
    "\n",
    "# Load dataset\n",
    "file_path = r\"C:\\Users\\incha\\Downloads\\Cyclone.csv\"  # Update path if needed\n",
    "df = pd.read_csv(file_path)\n",
    "\n",
    "# Drop unnecessary columns\n",
    "df = df.drop(columns=[\"index\", \"FID\", \"BTID\", \"NAME\", \"BASIN\"])\n",
    "\n",
    "# Encode categorical target variable\n",
    "le = LabelEncoder()\n",
    "df[\"CAT\"] = le.fit_transform(df[\"CAT\"])\n",
    "\n",
    "# Define features and targets\n",
    "X = df[[\"LAT\", \"LONG\", \"WIND_KTS\", \"PRESSURE\", \"YEAR\"]]\n",
    "y_cat = df[\"CAT\"]\n",
    "y_shape = df[\"Shape_Leng\"]\n",
    "\n",
    "# Split dataset\n",
    "X_train, X_test, y_cat_train, y_cat_test, y_shape_train, y_shape_test = train_test_split(\n",
    "    X, y_cat, y_shape, test_size=0.15, random_state=42\n",
    ")\n",
    "\n",
    "# Scale numerical features\n",
    "scaler = StandardScaler()\n",
    "X_train_scaled = scaler.fit_transform(X_train)\n",
    "X_test_scaled = scaler.transform(X_test)\n",
    "\n",
    "# Train models\n",
    "clf = RandomForestClassifier(n_estimators=500, random_state=42, n_jobs=-1)\n",
    "clf.fit(X_train_scaled, y_cat_train)\n",
    "\n",
    "reg_shape = RandomForestRegressor(n_estimators=500, random_state=42, n_jobs=-1)\n",
    "reg_shape.fit(X_train_scaled, y_shape_train)\n",
    "\n",
    "# Save models\n",
    "joblib.dump(clf, \"cyclone_clf.pkl\")\n",
    "joblib.dump(reg_shape, \"cyclone_reg.pkl\")\n",
    "joblib.dump(scaler, \"scaler1.pkl\")\n",
    "joblib.dump(le, \"label_encoder.pkl\")\n",
    "\n",
    "print(\"✅ Models trained and saved successfully!\")\n"
   ]
  }
 ],
 "metadata": {
  "kernelspec": {
   "display_name": "Python 3",
   "language": "python",
   "name": "python3"
  },
  "language_info": {
   "codemirror_mode": {
    "name": "ipython",
    "version": 3
   },
   "file_extension": ".py",
   "mimetype": "text/x-python",
   "name": "python",
   "nbconvert_exporter": "python",
   "pygments_lexer": "ipython3",
   "version": "3.12.4"
  }
 },
 "nbformat": 4,
 "nbformat_minor": 2
}
